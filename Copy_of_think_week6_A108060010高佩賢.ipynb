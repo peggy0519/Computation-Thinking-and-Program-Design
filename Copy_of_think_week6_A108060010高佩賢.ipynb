{
  "nbformat": 4,
  "nbformat_minor": 0,
  "metadata": {
    "colab": {
      "name": "Copy of think_week6_A108060010高佩賢",
      "provenance": [],
      "authorship_tag": "ABX9TyP4C059/qI7OGKvSCPFOCrx",
      "include_colab_link": true
    },
    "kernelspec": {
      "name": "python3",
      "display_name": "Python 3"
    }
  },
  "cells": [
    {
      "cell_type": "markdown",
      "metadata": {
        "id": "view-in-github",
        "colab_type": "text"
      },
      "source": [
        "<a href=\"https://colab.research.google.com/github/peggy0519/Computation-Thinking-and-Program-Design/blob/master/Copy_of_think_week6_A108060010%E9%AB%98%E4%BD%A9%E8%B3%A2.ipynb\" target=\"_parent\"><img src=\"https://colab.research.google.com/assets/colab-badge.svg\" alt=\"Open In Colab\"/></a>"
      ]
    },
    {
      "cell_type": "code",
      "metadata": {
        "id": "y76rcvTmdmdM",
        "colab_type": "code",
        "outputId": "18aac9ee-5ed0-4c37-80ed-840370b643e6",
        "colab": {
          "base_uri": "https://localhost:8080/",
          "height": 35
        }
      },
      "source": [
        "print(\"我的名字是\",\"高佩賢\")"
      ],
      "execution_count": 0,
      "outputs": [
        {
          "output_type": "stream",
          "text": [
            "我的名字是 高佩賢\n"
          ],
          "name": "stdout"
        }
      ]
    },
    {
      "cell_type": "code",
      "metadata": {
        "id": "6bForH2DksL0",
        "colab_type": "code",
        "outputId": "993a167d-fb56-4346-b7e9-3f6d3789da80",
        "colab": {
          "base_uri": "https://localhost:8080/",
          "height": 35
        }
      },
      "source": [
        "print(\"我的年紀是\",18,\"歲\")"
      ],
      "execution_count": 0,
      "outputs": [
        {
          "output_type": "stream",
          "text": [
            "我的年紀是 18 歲\n"
          ],
          "name": "stdout"
        }
      ]
    },
    {
      "cell_type": "code",
      "metadata": {
        "id": "TU99lBfPlNe_",
        "colab_type": "code",
        "outputId": "671bc3cb-4338-4ae3-95f9-baf48c2c506c",
        "colab": {
          "base_uri": "https://localhost:8080/",
          "height": 35
        }
      },
      "source": [
        "print(\"我的體重是\",55,\"公斤\")"
      ],
      "execution_count": 0,
      "outputs": [
        {
          "output_type": "stream",
          "text": [
            "我的體重是 55 公斤\n"
          ],
          "name": "stdout"
        }
      ]
    },
    {
      "cell_type": "code",
      "metadata": {
        "id": "5sPK8GOblY5A",
        "colab_type": "code",
        "outputId": "ed2e278a-bb07-4e2d-d188-4b52714ad734",
        "colab": {
          "base_uri": "https://localhost:8080/",
          "height": 35
        }
      },
      "source": [
        "Name=\"高佩賢\"\n",
        "print(\"我的名字是\",Name)"
      ],
      "execution_count": 0,
      "outputs": [
        {
          "output_type": "stream",
          "text": [
            "我的名字是 高佩賢\n"
          ],
          "name": "stdout"
        }
      ]
    },
    {
      "cell_type": "code",
      "metadata": {
        "id": "HSGOsp_6ls1v",
        "colab_type": "code",
        "outputId": "c417abb2-8312-46b3-9923-d0324a950520",
        "colab": {
          "base_uri": "https://localhost:8080/",
          "height": 35
        }
      },
      "source": [
        "age=18\n",
        "print(\"我的年紀是\",age,\"歲\")"
      ],
      "execution_count": 0,
      "outputs": [
        {
          "output_type": "stream",
          "text": [
            "我的年紀是 18 歲\n"
          ],
          "name": "stdout"
        }
      ]
    },
    {
      "cell_type": "code",
      "metadata": {
        "id": "Us7xAmDZmQmv",
        "colab_type": "code",
        "outputId": "72bc48ab-c000-439f-9a57-3b1eddb15fb2",
        "colab": {
          "base_uri": "https://localhost:8080/",
          "height": 35
        }
      },
      "source": [
        "weight=55\n",
        "print(\"我的體重是\",weight,\"公斤\")"
      ],
      "execution_count": 0,
      "outputs": [
        {
          "output_type": "stream",
          "text": [
            "我的體重是 55 公斤\n"
          ],
          "name": "stdout"
        }
      ]
    },
    {
      "cell_type": "code",
      "metadata": {
        "id": "3c3ON0Laqdam",
        "colab_type": "code",
        "outputId": "f0c0b09a-70f0-4d6f-bf10-7421bba6f3af",
        "colab": {
          "base_uri": "https://localhost:8080/",
          "height": 34
        }
      },
      "source": [
        "name=input(\"Enter Your Name\")"
      ],
      "execution_count": 1,
      "outputs": [
        {
          "output_type": "stream",
          "text": [
            "Enter Your Name高佩賢\n"
          ],
          "name": "stdout"
        }
      ]
    },
    {
      "cell_type": "code",
      "metadata": {
        "id": "ghvWiZ9wslWm",
        "colab_type": "code",
        "colab": {
          "base_uri": "https://localhost:8080/",
          "height": 34
        },
        "outputId": "ec5f324d-07fa-434a-dc1f-0116f61c06fb"
      },
      "source": [
        "age=input(\"Enter Your Age\")"
      ],
      "execution_count": 2,
      "outputs": [
        {
          "output_type": "stream",
          "text": [
            "Enter Your Age18\n"
          ],
          "name": "stdout"
        }
      ]
    },
    {
      "cell_type": "code",
      "metadata": {
        "id": "RGrgTZOku0mk",
        "colab_type": "code",
        "colab": {
          "base_uri": "https://localhost:8080/",
          "height": 34
        },
        "outputId": "243238be-fbb7-409c-d4b6-269fa0ad0b31"
      },
      "source": [
        "weight=input(\"Enter Your Weight\")"
      ],
      "execution_count": 3,
      "outputs": [
        {
          "output_type": "stream",
          "text": [
            "Enter Your Weight55\n"
          ],
          "name": "stdout"
        }
      ]
    },
    {
      "cell_type": "code",
      "metadata": {
        "id": "UgFNTbHNvFMU",
        "colab_type": "code",
        "colab": {}
      },
      "source": [
        ""
      ],
      "execution_count": 0,
      "outputs": []
    }
  ]
}