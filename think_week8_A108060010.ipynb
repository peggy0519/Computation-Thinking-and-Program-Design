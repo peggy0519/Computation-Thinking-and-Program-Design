{
  "nbformat": 4,
  "nbformat_minor": 0,
  "metadata": {
    "colab": {
      "name": "think_week8_A108060010.ipynb",
      "provenance": [],
      "collapsed_sections": [],
      "authorship_tag": "ABX9TyPBlf+zh4IiymWqIJpDNc/7",
      "include_colab_link": true
    },
    "kernelspec": {
      "name": "python3",
      "display_name": "Python 3"
    }
  },
  "cells": [
    {
      "cell_type": "markdown",
      "metadata": {
        "id": "view-in-github",
        "colab_type": "text"
      },
      "source": [
        "<a href=\"https://colab.research.google.com/github/peggy0519/Computation-Thinking-and-Program-Design/blob/master/think_week8_A108060010.ipynb\" target=\"_parent\"><img src=\"https://colab.research.google.com/assets/colab-badge.svg\" alt=\"Open In Colab\"/></a>"
      ]
    },
    {
      "cell_type": "code",
      "metadata": {
        "id": "WZiQv6eUtJkv",
        "colab_type": "code",
        "outputId": "1da0dda7-bc69-43ff-b046-753affd3c511",
        "colab": {
          "base_uri": "https://localhost:8080/",
          "height": 119
        }
      },
      "source": [
        "hours=input(\"Enter movie time hours:\")\n",
        "minutes=input(\"Enter movie time minutes:\")\n",
        "\n",
        "hours=int(hours)\n",
        "minutes=int(minutes)\n",
        "\n",
        "length=hours*60+minutes#數學運算\n",
        "print(hours,\"Hours\",minutes,\"Minutes\",\"movie length is\",length,\"minutes\")\n",
        "\n",
        "hours1=length/60\n",
        "print(hours1)\n",
        "hours2=int(hours1)\n",
        "print(hours2)\n",
        "\n",
        "minutes1=(hours1-hours2)*60\n",
        "print(minutes)\n"
      ],
      "execution_count": 3,
      "outputs": [
        {
          "output_type": "stream",
          "text": [
            "Enter movie time hours:2\n",
            "Enter movie time minutes:13\n",
            "2 Hours 13 Minutes movie length is 133 minutes\n",
            "2.216666666666667\n",
            "2\n",
            "13\n"
          ],
          "name": "stdout"
        }
      ]
    },
    {
      "cell_type": "code",
      "metadata": {
        "id": "4tVvX6wwxlP0",
        "colab_type": "code",
        "colab": {}
      },
      "source": [
        ""
      ],
      "execution_count": 0,
      "outputs": []
    }
  ]
}