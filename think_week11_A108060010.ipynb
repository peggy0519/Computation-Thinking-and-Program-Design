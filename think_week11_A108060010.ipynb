{
  "nbformat": 4,
  "nbformat_minor": 0,
  "metadata": {
    "colab": {
      "name": "think_week11_A108060010",
      "provenance": [],
      "authorship_tag": "ABX9TyOQidFgkbm/j0+trQYDCmmU",
      "include_colab_link": true
    },
    "kernelspec": {
      "name": "python3",
      "display_name": "Python 3"
    }
  },
  "cells": [
    {
      "cell_type": "markdown",
      "metadata": {
        "id": "view-in-github",
        "colab_type": "text"
      },
      "source": [
        "<a href=\"https://colab.research.google.com/github/peggy0519/Computation-Thinking-and-Program-Design/blob/master/think_week11_A108060010.ipynb\" target=\"_parent\"><img src=\"https://colab.research.google.com/assets/colab-badge.svg\" alt=\"Open In Colab\"/></a>"
      ]
    },
    {
      "cell_type": "code",
      "metadata": {
        "id": "l9waSMDv4z42",
        "colab_type": "code",
        "colab": {
          "base_uri": "https://localhost:8080/",
          "height": 199
        },
        "outputId": "722481ea-c977-47f3-cb69-fa3679b7c0ee"
      },
      "source": [
        "print(\"哈囉。我是Zyxo 64。我是一個聊天機器人。\")\n",
        "print(\"我喜歡動物，也喜歡聊食物。\")\n",
        "name = input(\"你叫什麼名字？: \")\n",
        "print(\"你好\", name, \"很高興認識你\")\n",
        "year = input(\"我記不太清楚日期。今年是幾年？： \")\n",
        "print(\"好的，我覺得沒錯。謝謝！\")\n",
        "myage = input(\"你能猜出我的年齡嗎？ - 輸入一個數字： \")\n",
        "print(\"沒錯，你猜對了。我\", myage)\n",
        "myage = int(myage)\n",
        "nyears = 100 - myage\n",
        "print(\"我再\", nyears, \"年就滿100歲了。\")\n",
        "print(\"到時候是\", int(year) + nyears) \n"
      ],
      "execution_count": 1,
      "outputs": [
        {
          "output_type": "stream",
          "text": [
            "哈囉。我是Zyxo 64。我是一個聊天機器人。\n",
            "我喜歡動物，也喜歡聊食物。\n",
            "你叫什麼名字？: 佩賢\n",
            "你好 佩賢 很高興認識你\n",
            "我記不太清楚日期。今年是幾年？： 109\n",
            "好的，我覺得沒錯。謝謝！\n",
            "你能猜出我的年齡嗎？ - 輸入一個數字： 15\n",
            "沒錯，你猜對了。我 15\n",
            "我再 85 年就滿100歲了。\n",
            "到時候是 194\n"
          ],
          "name": "stdout"
        }
      ]
    },
    {
      "cell_type": "code",
      "metadata": {
        "id": "4SOR5gLA5WCm",
        "colab_type": "code",
        "colab": {
          "base_uri": "https://localhost:8080/",
          "height": 108
        },
        "outputId": "1f9d3325-ed35-453c-8fdb-034d35866241"
      },
      "source": [
        "# 食物話題\n",
        "print(\"我喜歡巧克力，也喜歡嘗試各種新食物。\")\n",
        "food = input(\"你呢。你最喜歡的食物是什麼？： \")\n",
        "print(\"我也喜歡\", food)\n",
        "question = \"你多久吃一次\" + food + \"?: \"\n",
        "howoften = input(question)\n",
        "print(\"真有趣。不知道這樣對健康好不好！\")\n"
      ],
      "execution_count": 2,
      "outputs": [
        {
          "output_type": "stream",
          "text": [
            "我喜歡巧克力，也喜歡嘗試各種新食物。\n",
            "你呢。你最喜歡的食物是什麼？： 麻辣燙\n",
            "我也喜歡 麻辣燙\n",
            "你多久吃一次麻辣燙?: 一禮拜一次\n",
            "真有趣。不知道這樣對健康好不好！\n"
          ],
          "name": "stdout"
        }
      ]
    },
    {
      "cell_type": "code",
      "metadata": {
        "id": "jJtka_q55mXo",
        "colab_type": "code",
        "colab": {
          "base_uri": "https://localhost:8080/",
          "height": 72
        },
        "outputId": "0a561614-98d7-467c-b4b0-08d52a2b3f68"
      },
      "source": [
        "# 動物話題\n",
        "animal = input(\"我最喜歡的動物是長頸鹿。你呢？； \")\n",
        "print(animal, \"! 我不喜歡。\")\n",
        "print(\"不知道\", animal, \"喜不喜歡吃\", food, \"?\")"
      ],
      "execution_count": 3,
      "outputs": [
        {
          "output_type": "stream",
          "text": [
            "我最喜歡的動物是長頸鹿。你呢？； 貓\n",
            "貓 ! 我不喜歡。\n",
            "不知道 貓 喜不喜歡吃 麻辣燙 ?\n"
          ],
          "name": "stdout"
        }
      ]
    },
    {
      "cell_type": "code",
      "metadata": {
        "id": "QXnA76_h5wMA",
        "colab_type": "code",
        "colab": {
          "base_uri": "https://localhost:8080/",
          "height": 90
        },
        "outputId": "aa06f5a1-d132-4369-a7e2-4febcec0b332"
      },
      "source": [
        "# 關於心情的對話\n",
        "feeling = input(\"你今天覺得如何？； \")\n",
        "print(\"為什麼你現在覺得\", feeling, \"呢？\")\n",
        "reason = input(\"請告訴我： \")\n",
        "print(\"我知道了。謝謝分享。\")\n"
      ],
      "execution_count": 4,
      "outputs": [
        {
          "output_type": "stream",
          "text": [
            "你今天覺得如何？； 很好\n",
            "為什麼你現在覺得 很好 呢？\n",
            "請告訴我： 因為吃很飽\n",
            "我知道了。謝謝分享。\n"
          ],
          "name": "stdout"
        }
      ]
    },
    {
      "cell_type": "code",
      "metadata": {
        "id": "I7sb0wMH53c4",
        "colab_type": "code",
        "colab": {
          "base_uri": "https://localhost:8080/",
          "height": 72
        },
        "outputId": "b95a59c1-559f-427f-da93-d152c19c8189"
      },
      "source": [
        "# 道別\n",
        "print(\"今天事情真多！\")\n",
        "print(\"我累到無法繼續聊天了，之後再聊。\")\n",
        "print(\"再見\", name, \"我喜歡跟你聊天！\")"
      ],
      "execution_count": 5,
      "outputs": [
        {
          "output_type": "stream",
          "text": [
            "今天事情真多！\n",
            "我累到無法繼續聊天了，之後再聊。\n",
            "再見 佩賢 我喜歡跟你聊天！\n"
          ],
          "name": "stdout"
        }
      ]
    },
    {
      "cell_type": "code",
      "metadata": {
        "id": "J8givp546AEY",
        "colab_type": "code",
        "colab": {}
      },
      "source": [
        ""
      ],
      "execution_count": 0,
      "outputs": []
    }
  ]
}