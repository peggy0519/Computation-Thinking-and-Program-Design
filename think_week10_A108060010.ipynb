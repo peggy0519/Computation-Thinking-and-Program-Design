{
  "nbformat": 4,
  "nbformat_minor": 0,
  "metadata": {
    "kernelspec": {
      "display_name": "Python 3",
      "language": "python",
      "name": "python3"
    },
    "language_info": {
      "codemirror_mode": {
        "name": "ipython",
        "version": 3
      },
      "file_extension": ".py",
      "mimetype": "text/x-python",
      "name": "python",
      "nbconvert_exporter": "python",
      "pygments_lexer": "ipython3",
      "version": "3.7.4"
    },
    "colab": {
      "name": "think_week9_A108060010.ipynb",
      "provenance": [],
      "include_colab_link": true
    }
  },
  "cells": [
    {
      "cell_type": "markdown",
      "metadata": {
        "id": "view-in-github",
        "colab_type": "text"
      },
      "source": [
        "<a href=\"https://colab.research.google.com/github/peggy0519/Computation-Thinking-and-Program-Design/blob/master/think_week10_A108060010.ipynb\" target=\"_parent\"><img src=\"https://colab.research.google.com/assets/colab-badge.svg\" alt=\"Open In Colab\"/></a>"
      ]
    },
    {
      "cell_type": "markdown",
      "metadata": {
        "id": "fRsgdKMxGUXc",
        "colab_type": "text"
      },
      "source": [
        "### LBD 4: 為了刺激銷售量，賣場通常買一打會比買一罐便宜，假設一罐賣20元，一打賣200元，請設計一個程式計算買幾罐需花多少錢，若不足一打就個別買。"
      ]
    },
    {
      "cell_type": "code",
      "metadata": {
        "id": "HAqDX3vrGUXd",
        "colab_type": "code",
        "outputId": "e9f49329-b4fd-453a-f2f4-034db4940c4f",
        "colab": {
          "base_uri": "https://localhost:8080/",
          "height": 54
        }
      },
      "source": [
        "飲料數量=int(input('請輸入飲料數量?'))\n",
        "打數=(飲料數量//12)\n",
        "罐數=(飲料數量%12)\n",
        "總金額=打數*200+罐數*20\n",
        "print('飲料的總金額為',總金額)"
      ],
      "execution_count": 0,
      "outputs": [
        {
          "output_type": "stream",
          "text": [
            "請輸入飲料數量?54\n",
            "飲料的總金額為 920\n"
          ],
          "name": "stdout"
        }
      ]
    },
    {
      "cell_type": "markdown",
      "metadata": {
        "id": "D2HCggJ1GUXf",
        "colab_type": "text"
      },
      "source": [
        "### LBD 5: 請輸入第一次期中考、第二次期中考與期末考成績，成績皆為整數，請計算分數的加總與平均。"
      ]
    },
    {
      "cell_type": "code",
      "metadata": {
        "id": "-mLPMTskGUXg",
        "colab_type": "code",
        "outputId": "f0e9617b-ed07-475d-c632-b13af5493ea3",
        "colab": {
          "base_uri": "https://localhost:8080/",
          "height": 72
        }
      },
      "source": [
        "第一次期中考成績 = int(input(\"請輸入第一次期中考成績\"))\n",
        "第二次期中考成績 = int(input(\"請輸入第二次期中考成績\"))\n",
        "期末考成績 = int(input(\"請輸入期末考成績\"))\n"
      ],
      "execution_count": 0,
      "outputs": [
        {
          "output_type": "stream",
          "text": [
            "請輸入第一次期中考成績90\n",
            "請輸入第二次期中考成績87\n",
            "請輸入期末考成績79\n"
          ],
          "name": "stdout"
        }
      ]
    },
    {
      "cell_type": "code",
      "metadata": {
        "id": "e-L1lgz4GUXj",
        "colab_type": "code",
        "outputId": "8f93a890-d058-4c52-9acf-6ab7a8d39df3",
        "colab": {
          "base_uri": "https://localhost:8080/",
          "height": 54
        }
      },
      "source": [
        "總分數 = 第一次期中考成績 + 第二次期中考成績 + 期末考成績\n",
        "print(\"總分數為\",總分數)\n",
        "平均分數 = (第一次期中考成績 + 第二次期中考成績 + 期末考成績)//3\n",
        "print(\"平均分數為\",平均分數)"
      ],
      "execution_count": 0,
      "outputs": [
        {
          "output_type": "stream",
          "text": [
            "總分數為 256\n",
            "平均分數為 85\n"
          ],
          "name": "stdout"
        }
      ]
    },
    {
      "cell_type": "code",
      "metadata": {
        "id": "ZvzcEENrq5Lo",
        "colab_type": "code",
        "colab": {}
      },
      "source": [
        ""
      ],
      "execution_count": 0,
      "outputs": []
    }
  ]
}