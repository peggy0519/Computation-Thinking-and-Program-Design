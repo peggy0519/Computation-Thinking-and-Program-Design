{
  "nbformat": 4,
  "nbformat_minor": 0,
  "metadata": {
    "colab": {
      "name": "think_week12_A108060010",
      "provenance": [],
      "collapsed_sections": [],
      "authorship_tag": "ABX9TyONP55dKLT6yenmHnBJBwX1",
      "include_colab_link": true
    },
    "kernelspec": {
      "name": "python3",
      "display_name": "Python 3"
    }
  },
  "cells": [
    {
      "cell_type": "markdown",
      "metadata": {
        "id": "view-in-github",
        "colab_type": "text"
      },
      "source": [
        "<a href=\"https://colab.research.google.com/github/peggy0519/Computation-Thinking-and-Program-Design/blob/master/think_week12_A108060010.ipynb\" target=\"_parent\"><img src=\"https://colab.research.google.com/assets/colab-badge.svg\" alt=\"Open In Colab\"/></a>"
      ]
    },
    {
      "cell_type": "code",
      "metadata": {
        "id": "kNmuFL1B5cuF",
        "colab_type": "code",
        "outputId": "adad96f2-fdd3-4775-c587-9b20a89fd102",
        "colab": {
          "base_uri": "https://localhost:8080/",
          "height": 90
        }
      },
      "source": [
        "noodle=input(\"有麵嗎?YES/NO\")\n",
        "sauce=input(\"有醬料嗎?YES/NO\")\n",
        "if noodle==\"YES\":\n",
        "   if sauce==\"YES\":\n",
        "      print(\"可做義大利麵\")\n",
        "print(\"Well done!\")"
      ],
      "execution_count": 0,
      "outputs": [
        {
          "output_type": "stream",
          "text": [
            "有麵嗎?YES/NOYES\n",
            "有醬料嗎?YES/NOYES\n",
            "可做義大利麵\n",
            "Well done!\n"
          ],
          "name": "stdout"
        }
      ]
    },
    {
      "cell_type": "code",
      "metadata": {
        "id": "YmQ1p_xQ9jVe",
        "colab_type": "code",
        "colab": {
          "base_uri": "https://localhost:8080/",
          "height": 85
        },
        "outputId": "9611685d-7d65-466c-835a-7fac6514025b"
      },
      "source": [
        "noodle=input(\"有麵嗎?YES/NO\")\n",
        "sauce=input(\"有醬料嗎?YES/NO\")\n",
        "if noodle==\"YES\"and sauce==\"YES\":\n",
        "      print(\"可做義大利麵\")\n",
        "print(\"Well done!\")"
      ],
      "execution_count": 2,
      "outputs": [
        {
          "output_type": "stream",
          "text": [
            "有麵嗎?YES/NOYES\n",
            "有醬料嗎?YES/NOYES\n",
            "可做義大利麵\n",
            "Well done!\n"
          ],
          "name": "stdout"
        }
      ]
    },
    {
      "cell_type": "code",
      "metadata": {
        "id": "iWRqQak8Hr0_",
        "colab_type": "code",
        "colab": {}
      },
      "source": [
        ""
      ],
      "execution_count": 0,
      "outputs": []
    }
  ]
}