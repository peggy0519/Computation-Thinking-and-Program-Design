{
  "nbformat": 4,
  "nbformat_minor": 0,
  "metadata": {
    "colab": {
      "name": "think_week12_A108060010",
      "provenance": [],
      "collapsed_sections": [],
      "authorship_tag": "ABX9TyPJqjly3EdjK8x9ZJPfzU8C",
      "include_colab_link": true
    },
    "kernelspec": {
      "name": "python3",
      "display_name": "Python 3"
    }
  },
  "cells": [
    {
      "cell_type": "markdown",
      "metadata": {
        "id": "view-in-github",
        "colab_type": "text"
      },
      "source": [
        "<a href=\"https://colab.research.google.com/github/peggy0519/Computation-Thinking-and-Program-Design/blob/master/think_week12_A108060010.ipynb\" target=\"_parent\"><img src=\"https://colab.research.google.com/assets/colab-badge.svg\" alt=\"Open In Colab\"/></a>"
      ]
    },
    {
      "cell_type": "code",
      "metadata": {
        "id": "kNmuFL1B5cuF",
        "colab_type": "code",
        "colab": {
          "base_uri": "https://localhost:8080/",
          "height": 90
        },
        "outputId": "adad96f2-fdd3-4775-c587-9b20a89fd102"
      },
      "source": [
        "noodle=input(\"有麵嗎?YES/NO\")\n",
        "sauce=input(\"有醬料嗎?YES/NO\")\n",
        "if noodle==\"YES\":\n",
        "   if sauce==\"YES\":\n",
        "      print(\"可做義大利麵\")\n",
        "print(\"Well done!\")"
      ],
      "execution_count": 7,
      "outputs": [
        {
          "output_type": "stream",
          "text": [
            "有麵嗎?YES/NOYES\n",
            "有醬料嗎?YES/NOYES\n",
            "可做義大利麵\n",
            "Well done!\n"
          ],
          "name": "stdout"
        }
      ]
    },
    {
      "cell_type": "code",
      "metadata": {
        "id": "YmQ1p_xQ9jVe",
        "colab_type": "code",
        "colab": {}
      },
      "source": [
        ""
      ],
      "execution_count": 0,
      "outputs": []
    }
  ]
}