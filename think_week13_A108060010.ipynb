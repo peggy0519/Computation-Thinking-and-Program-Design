{
  "nbformat": 4,
  "nbformat_minor": 0,
  "metadata": {
    "colab": {
      "name": "think_week13_A108060010",
      "provenance": [],
      "authorship_tag": "ABX9TyNWJp3keardACKXx31HCa9J",
      "include_colab_link": true
    },
    "kernelspec": {
      "name": "python3",
      "display_name": "Python 3"
    }
  },
  "cells": [
    {
      "cell_type": "markdown",
      "metadata": {
        "id": "view-in-github",
        "colab_type": "text"
      },
      "source": [
        "<a href=\"https://colab.research.google.com/github/peggy0519/Computation-Thinking-and-Program-Design/blob/master/think_week13_A108060010.ipynb\" target=\"_parent\"><img src=\"https://colab.research.google.com/assets/colab-badge.svg\" alt=\"Open In Colab\"/></a>"
      ]
    },
    {
      "cell_type": "code",
      "metadata": {
        "id": "4QkQdr0g2atj",
        "colab_type": "code",
        "colab": {
          "base_uri": "https://localhost:8080/",
          "height": 54
        },
        "outputId": "76e083a2-b614-4661-bb77-7a5ca663fa47"
      },
      "source": [
        "score=input(\"請輸入成績?\")\n",
        "score=int(score)\n",
        "if score>=80:\n",
        "   print(\"Well done!\")\n",
        "if 80>score>=60:\n",
        "   print(\"Good,Pass\")\n",
        "else:\n",
        "   print(\"Work Harder\")\n"
      ],
      "execution_count": 3,
      "outputs": [
        {
          "output_type": "stream",
          "text": [
            "請輸入成績?20\n",
            "Work Harder\n"
          ],
          "name": "stdout"
        }
      ]
    },
    {
      "cell_type": "code",
      "metadata": {
        "id": "rDikbXXK7cjw",
        "colab_type": "code",
        "colab": {
          "base_uri": "https://localhost:8080/",
          "height": 54
        },
        "outputId": "7eb6a4c5-588c-4834-8431-0c14bcaae8e4"
      },
      "source": [
        "score=input(\"請輸入成績?\")\n",
        "score=int(score)\n",
        "if score>=80:\n",
        "   print(\"Well done!\")\n",
        "else:\n",
        "  print(\"Oiling\")\n",
        "  if score>=60:\n",
        "    print(\"Good,Pass\")\n",
        "  else:\n",
        "   print(\"Work Harder\")"
      ],
      "execution_count": 4,
      "outputs": [
        {
          "output_type": "stream",
          "text": [
            "請輸入成績?80\n",
            "Well done!\n"
          ],
          "name": "stdout"
        }
      ]
    },
    {
      "cell_type": "code",
      "metadata": {
        "id": "q4S5Q0-D8Hhq",
        "colab_type": "code",
        "colab": {
          "base_uri": "https://localhost:8080/",
          "height": 54
        },
        "outputId": "2d9a99a6-7656-45e9-bc23-32ddd8f31c1b"
      },
      "source": [
        "score=input(\"請輸入成績?\")\n",
        "score=int(score)\n",
        "if score>=80:\n",
        "   print(\"Well done!\")\n",
        "elif score>=60:\n",
        "   print(\"Good,Pass\")\n",
        "else:\n",
        "   print(\"Work Harder\")"
      ],
      "execution_count": 5,
      "outputs": [
        {
          "output_type": "stream",
          "text": [
            "請輸入成績?56\n",
            "Work Harder\n"
          ],
          "name": "stdout"
        }
      ]
    },
    {
      "cell_type": "code",
      "metadata": {
        "id": "2GM634Cr86Yo",
        "colab_type": "code",
        "colab": {}
      },
      "source": [
        ""
      ],
      "execution_count": 0,
      "outputs": []
    }
  ]
}